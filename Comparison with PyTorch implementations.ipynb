{
 "cells": [
  {
   "cell_type": "markdown",
   "metadata": {},
   "source": [
    "# MSc at UCU. Deep Learning 2019\n",
    "## Home Assignment 2. Oleh Lukianykhin\n",
    "## Comparison of PyTorch and custom implementations"
   ]
  },
  {
   "cell_type": "code",
   "execution_count": 1,
   "metadata": {},
   "outputs": [],
   "source": [
    "from simple_conv_net_func import diff_mse\n",
    "import torch\n",
    "from simple_conv_net_func import conv2d_scalar, pool2d_scalar, relu_scalar, reshape_scalar, fc_layer_scalar\n",
    "from simple_conv_net_func import conv2d_vector, pool2d_vector, relu_vector, reshape_vector, fc_layer_vector\n",
    "from simple_conv_net_func import conv_weight2rows, im2col\n",
    "\n",
    "import torch\n",
    "import torch.nn as nn\n",
    "import torch.nn.functional as F"
   ]
  },
  {
   "cell_type": "code",
   "execution_count": 2,
   "metadata": {},
   "outputs": [],
   "source": [
    "# this naming was introduced to make reading easier\n",
    "pytorch_conv = nn.Conv2d(in_channels=1, \n",
    "                         out_channels=20,\n",
    "                            kernel_size=5,\n",
    "                            stride=1,\n",
    "                            padding=0,\n",
    "                            dilation=1,\n",
    "                            groups=1,\n",
    "                            bias=True)\n",
    "pytorch_pool = lambda x: F.max_pool2d(x, 2, 2)\n",
    "pytorch_reshape = lambda x: x.view(-1, 20*12*12)\n",
    "pytorch_fc = lambda inn, out: nn.Linear(in_features=inn, out_features=out)\n",
    "pytorch_relu = lambda x: F.relu(x)"
   ]
  },
  {
   "cell_type": "code",
   "execution_count": 3,
   "metadata": {},
   "outputs": [],
   "source": [
    "x_in = torch.rand([64, 1, 28, 28])"
   ]
  },
  {
   "cell_type": "markdown",
   "metadata": {},
   "source": [
    "## First compare 2d convolution implementation in pytorch with mine"
   ]
  },
  {
   "cell_type": "code",
   "execution_count": 4,
   "metadata": {},
   "outputs": [
    {
     "name": "stdout",
     "output_type": "stream",
     "text": [
      "MSE difference for the vector version is 0.0\n",
      "Wall time: 1.18 s\n"
     ]
    }
   ],
   "source": [
    "%%time\n",
    "torch_res = pytorch_conv(x_in)\n",
    "b = pytorch_conv.bias\n",
    "w = pytorch_conv.weight\n",
    "my_res = conv2d_vector(x_in, w, b, 'cpu')\n",
    "print(\"MSE difference for the vector version is {}\".format(diff_mse(torch_res, my_res)))"
   ]
  },
  {
   "cell_type": "code",
   "execution_count": 5,
   "metadata": {},
   "outputs": [
    {
     "name": "stdout",
     "output_type": "stream",
     "text": [
      "MSE difference for the scalar version is 1.2936938550113454e-15\n",
      "Wall time: 56.9 s\n"
     ]
    }
   ],
   "source": [
    "%%time\n",
    "torch_res = pytorch_conv(x_in)\n",
    "b = pytorch_conv.bias\n",
    "w = pytorch_conv.weight\n",
    "my_res = conv2d_scalar(x_in, w, b, 'cpu')\n",
    "print(\"MSE difference for the scalar version is {}\".format(diff_mse(torch_res, my_res)))"
   ]
  },
  {
   "cell_type": "markdown",
   "metadata": {},
   "source": [
    "## Compare 2d pooling implementation in pytorch with mine"
   ]
  },
  {
   "cell_type": "code",
   "execution_count": 5,
   "metadata": {},
   "outputs": [
    {
     "name": "stdout",
     "output_type": "stream",
     "text": [
      "MSE difference for the vector version is 0.0\n",
      "Wall time: 30.9 ms\n"
     ]
    }
   ],
   "source": [
    "%%time\n",
    "torch_res_pool = pytorch_pool(torch_res)\n",
    "my_res_pool = pool2d_vector(torch_res, 'cpu')\n",
    "print(\"MSE difference for the vector version is {}\".format(diff_mse(torch_res_pool, my_res_pool)))"
   ]
  },
  {
   "cell_type": "code",
   "execution_count": 12,
   "metadata": {},
   "outputs": [
    {
     "name": "stdout",
     "output_type": "stream",
     "text": [
      "MSE difference for the scalar version is 0.0\n",
      "Wall time: 481 ms\n"
     ]
    }
   ],
   "source": [
    "%%time\n",
    "torch_res_pool = pytorch_pool(torch_res)\n",
    "my_res_pool = pool2d_scalar(torch_res, 'cpu')\n",
    "print(\"MSE difference for the scalar version is {}\".format(diff_mse(torch_res_pool, my_res_pool)))"
   ]
  },
  {
   "cell_type": "markdown",
   "metadata": {},
   "source": [
    "## Compare reshape from pytorch with my implementation"
   ]
  },
  {
   "cell_type": "code",
   "execution_count": 6,
   "metadata": {},
   "outputs": [
    {
     "name": "stdout",
     "output_type": "stream",
     "text": [
      "MSE difference for the vector version is 0.0\n",
      "Wall time: 2.99 ms\n"
     ]
    }
   ],
   "source": [
    "%%time\n",
    "torch_res_reshape = pytorch_reshape(torch_res_pool)\n",
    "my_res_reshape = reshape_vector(torch_res_pool, 'cpu')\n",
    "print(\"MSE difference for the vector version is {}\".format(diff_mse(torch_res_reshape, my_res_reshape)))"
   ]
  },
  {
   "cell_type": "code",
   "execution_count": 7,
   "metadata": {
    "scrolled": false
   },
   "outputs": [
    {
     "name": "stdout",
     "output_type": "stream",
     "text": [
      "MSE difference for the vector version is 0.0\n",
      "Wall time: 11.2 s\n"
     ]
    }
   ],
   "source": [
    "%%time\n",
    "torch_res_reshape = pytorch_reshape(torch_res_pool)\n",
    "my_res_reshape = reshape_scalar(torch_res_pool, 'cpu')\n",
    "print(\"MSE difference for the vector version is {}\".format(diff_mse(torch_res_reshape, my_res_reshape)))"
   ]
  },
  {
   "cell_type": "markdown",
   "metadata": {},
   "source": [
    "## Compare fully connected layer from pytorch with my implementation"
   ]
  },
  {
   "cell_type": "code",
   "execution_count": 7,
   "metadata": {},
   "outputs": [
    {
     "name": "stdout",
     "output_type": "stream",
     "text": [
      "MSE difference for the vector version is 2.741143671707133e-15\n",
      "Wall time: 25.9 ms\n"
     ]
    }
   ],
   "source": [
    "%%time\n",
    "torch_fc_1 = pytorch_fc(2880, 500)\n",
    "torch_res_fc1 = torch_fc_1(torch_res_reshape)\n",
    "b = torch_fc_1.bias\n",
    "w = torch_fc_1.weight\n",
    "my_res_fc_1 = fc_layer_vector(torch_res_reshape, w, b, 'cpu')\n",
    "print(\"MSE difference for the vector version is {}\".format(diff_mse(torch_res_fc1, my_res_fc_1)))\n"
   ]
  },
  {
   "cell_type": "code",
   "execution_count": 84,
   "metadata": {},
   "outputs": [
    {
     "name": "stdout",
     "output_type": "stream",
     "text": [
      "Wall time: 22.9 ms\n"
     ]
    }
   ],
   "source": [
    "%%time\n",
    "torch_fc_1 = pytorch_fc(2880, 500)\n",
    "\n",
    "b = torch_fc_1.bias.data.clone()\n",
    "w = torch_fc_1.weight.data.clone()\n",
    "x = torch_res_reshape.data.clone()\n",
    "torch_res_fc1 = torch_fc_1(torch_res_reshape)"
   ]
  },
  {
   "cell_type": "code",
   "execution_count": 86,
   "metadata": {},
   "outputs": [
    {
     "name": "stdout",
     "output_type": "stream",
     "text": [
      "Wall time: 2min 6s\n"
     ]
    }
   ],
   "source": [
    "%%time\n",
    "my_res_fc_1 = fc_layer_scalar(x[:5], w, b, 'cpu')"
   ]
  },
  {
   "cell_type": "code",
   "execution_count": 87,
   "metadata": {
    "scrolled": true
   },
   "outputs": [
    {
     "name": "stdout",
     "output_type": "stream",
     "text": [
      "MSE difference for the vector version is 3.150770795526739e-14\n"
     ]
    }
   ],
   "source": [
    "print(\"MSE difference for the vector version is {}\".format(diff_mse(torch_res_fc1[:5], my_res_fc_1)))"
   ]
  },
  {
   "cell_type": "markdown",
   "metadata": {},
   "source": [
    "FC-layers are **very** slow in scalar form, so i tested just for first 4 \"images\" in the generated batch"
   ]
  },
  {
   "cell_type": "markdown",
   "metadata": {},
   "source": [
    "## Compare ReLU from pytorch with my implementation"
   ]
  },
  {
   "cell_type": "code",
   "execution_count": 9,
   "metadata": {},
   "outputs": [
    {
     "name": "stdout",
     "output_type": "stream",
     "text": [
      "MSE difference for the vector version is 0.0\n",
      "Wall time: 1.87 ms\n"
     ]
    }
   ],
   "source": [
    "%%time\n",
    "torch_res_relu = pytorch_relu(torch_res_fc1)\n",
    "my_res_fc_relu = relu_vector(torch_res_fc1, 'cpu')\n",
    "print(\"MSE difference for the vector version is {}\".format(diff_mse(torch_res_relu, my_res_fc_relu)))"
   ]
  },
  {
   "cell_type": "code",
   "execution_count": 10,
   "metadata": {},
   "outputs": [
    {
     "name": "stdout",
     "output_type": "stream",
     "text": [
      "MSE difference for the vector version is 0.0\n",
      "Wall time: 1.32 s\n"
     ]
    }
   ],
   "source": [
    "%%time\n",
    "torch_res_relu = pytorch_relu(torch_res_fc1)\n",
    "my_res_fc_relu = relu_scalar(torch_res_fc1, 'cpu')\n",
    "print(\"MSE difference for the vector version is {}\".format(diff_mse(torch_res_relu, my_res_fc_relu)))"
   ]
  },
  {
   "cell_type": "markdown",
   "metadata": {},
   "source": [
    "## As expected, difference is extremely small or equal to 0 for both implementations: scalar and vector.\n",
    "## However, scalar versions work much slower. Fully connected layer is extremely slow, because of huge number of simple operations that are executed sequentialy, not in parallel."
   ]
  }
 ],
 "metadata": {
  "kernelspec": {
   "display_name": "Python 3",
   "language": "python",
   "name": "python3"
  },
  "language_info": {
   "codemirror_mode": {
    "name": "ipython",
    "version": 3
   },
   "file_extension": ".py",
   "mimetype": "text/x-python",
   "name": "python",
   "nbconvert_exporter": "python",
   "pygments_lexer": "ipython3",
   "version": "3.6.8"
  }
 },
 "nbformat": 4,
 "nbformat_minor": 2
}
