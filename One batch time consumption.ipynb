{
 "cells": [
  {
   "cell_type": "code",
   "execution_count": 12,
   "metadata": {},
   "outputs": [],
   "source": [
    "from simple_conv_net_func import conv2d_scalar, pool2d_scalar, relu_scalar, reshape_scalar, fc_layer_scalar\n",
    "from simple_conv_net_func import conv2d_vector, pool2d_vector, relu_vector, reshape_vector, fc_layer_vector\n",
    "import torch\n",
    "import torch.nn.functional as F"
   ]
  },
  {
   "cell_type": "code",
   "execution_count": 16,
   "metadata": {},
   "outputs": [],
   "source": [
    "device = 'cpu'"
   ]
  },
  {
   "cell_type": "code",
   "execution_count": 17,
   "metadata": {},
   "outputs": [],
   "source": [
    "def forward_vector(x_in):\n",
    "    z_conv = conv2d_vector(x_in, w_conv, b_conv, device)\n",
    "    z_pool = pool2d_vector(z_conv, device)\n",
    "    z_pool_reshaped = reshape_vector(z_pool, device)\n",
    "    z_fc1 = fc_layer_vector(z_pool_reshaped, w_fc_1, b_fc_1, device)\n",
    "    z_relu = relu_vector(z_fc1, device)\n",
    "    z_fc2 = fc_layer_vector(z_relu, w_fc_2, b_fc_2, device)\n",
    "    y = F.softmax(z_fc2, dim=1)\n",
    "    return y\n",
    "\n",
    "def forward_scalar(x_in):\n",
    "    z_conv = conv2d_scalar(x_in, w_conv, b_conv, device)\n",
    "    z_pool = pool2d_scalar(z_conv, device)\n",
    "    z_pool_reshaped = reshape_scalar(z_pool, device)\n",
    "    z_fc1 = fc_layer_scalar(z_pool_reshaped, w_fc_1, b_fc_1, device)\n",
    "    z_relu = relu_scalar(z_fc1, device)\n",
    "    z_fc2 = fc_layer_scalar(z_relu, w_fc_2, b_fc_2, device)\n",
    "    y = F.softmax(z_fc2, dim=1)\n",
    "    return y"
   ]
  },
  {
   "cell_type": "code",
   "execution_count": 20,
   "metadata": {},
   "outputs": [],
   "source": [
    "x_in = torch.rand([2,1,28,28])\n",
    "w_conv = torch.rand([20,1,5,5])\n",
    "b_conv = torch.rand([20])\n",
    "w_fc_1 = torch.rand([500, 2880])\n",
    "b_fc_1 = torch.rand([500])\n",
    "w_fc_2 = torch.rand([10, 500])\n",
    "b_fc_2 = torch.rand([10])"
   ]
  },
  {
   "cell_type": "code",
   "execution_count": 22,
   "metadata": {},
   "outputs": [
    {
     "name": "stdout",
     "output_type": "stream",
     "text": [
      "Wall time: 59.8 ms\n"
     ]
    },
    {
     "data": {
      "text/plain": [
       "tensor([[0., 0., 1., 0., 0., 0., 0., 0., 0., 0.],\n",
       "        [0., 0., 1., 0., 0., 0., 0., 0., 0., 0.]], grad_fn=<SoftmaxBackward>)"
      ]
     },
     "execution_count": 22,
     "metadata": {},
     "output_type": "execute_result"
    }
   ],
   "source": [
    "%%time\n",
    "forward_vector(x_in)"
   ]
  },
  {
   "cell_type": "code",
   "execution_count": 23,
   "metadata": {},
   "outputs": [
    {
     "name": "stdout",
     "output_type": "stream",
     "text": [
      "Wall time: 1min 49s\n"
     ]
    },
    {
     "data": {
      "text/plain": [
       "tensor([[0.1440, 0.0676, 0.0932, 0.1562, 0.0763, 0.0615, 0.1108, 0.0716, 0.0593,\n",
       "         0.1595],\n",
       "        [0.1440, 0.0676, 0.0932, 0.1562, 0.0763, 0.0615, 0.1108, 0.0716, 0.0593,\n",
       "         0.1595]], grad_fn=<SoftmaxBackward>)"
      ]
     },
     "execution_count": 23,
     "metadata": {},
     "output_type": "execute_result"
    }
   ],
   "source": [
    "%%time\n",
    "forward_scalar(x_in)"
   ]
  },
  {
   "cell_type": "markdown",
   "metadata": {},
   "source": [
    "# We observe that vector version works orders faster"
   ]
  },
  {
   "cell_type": "markdown",
   "metadata": {},
   "source": [
    "#### I didn't take the whole batch for consideration, to save time."
   ]
  }
 ],
 "metadata": {
  "kernelspec": {
   "display_name": "Python 3",
   "language": "python",
   "name": "python3"
  },
  "language_info": {
   "codemirror_mode": {
    "name": "ipython",
    "version": 3
   },
   "file_extension": ".py",
   "mimetype": "text/x-python",
   "name": "python",
   "nbconvert_exporter": "python",
   "pygments_lexer": "ipython3",
   "version": "3.6.8"
  }
 },
 "nbformat": 4,
 "nbformat_minor": 2
}
